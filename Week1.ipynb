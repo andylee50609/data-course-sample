{
  "nbformat": 4,
  "nbformat_minor": 0,
  "metadata": {
    "colab": {
      "name": "Week1.ipynb",
      "provenance": [],
      "authorship_tag": "ABX9TyMCkvEu7YzNTZprA5taSPxO",
      "include_colab_link": true
    },
    "kernelspec": {
      "name": "python3",
      "display_name": "Python 3"
    },
    "language_info": {
      "name": "python"
    }
  },
  "cells": [
    {
      "cell_type": "markdown",
      "metadata": {
        "id": "view-in-github",
        "colab_type": "text"
      },
      "source": [
        "<a href=\"https://colab.research.google.com/github/andylee50609/data-course-sample/blob/main/Week1.ipynb\" target=\"_parent\"><img src=\"https://colab.research.google.com/assets/colab-badge.svg\" alt=\"Open In Colab\"/></a>"
      ]
    },
    {
      "cell_type": "markdown",
      "source": [
        "【參數宣告】"
      ],
      "metadata": {
        "id": "rGbdSaGOAkub"
      }
    },
    {
      "cell_type": "code",
      "source": [
        "import pandas as pd\n",
        "import numpy as np"
      ],
      "metadata": {
        "id": "U1VFzo0LAqs5"
      },
      "execution_count": 2,
      "outputs": []
    },
    {
      "cell_type": "markdown",
      "source": [
        "【資料讀取】"
      ],
      "metadata": {
        "id": "xKJ-DemKBPid"
      }
    },
    {
      "cell_type": "code",
      "source": [
        "!wget http://deepyeti.ucsd.edu/jianmo/amazon/categoryFilesSmall/All_Beauty.csv\n",
        "!wget http://deepyeti.ucsd.edu/jianmo/amazon/metaFiles2/meta_All_Beauty.json.gz"
      ],
      "metadata": {
        "id": "kUoBkbYmBOxs",
        "outputId": "aa88bd80-2727-4b88-e412-13098c3c1b73",
        "colab": {
          "base_uri": "https://localhost:8080/"
        }
      },
      "execution_count": 3,
      "outputs": [
        {
          "output_type": "stream",
          "name": "stdout",
          "text": [
            "--2021-12-26 06:37:54--  http://deepyeti.ucsd.edu/jianmo/amazon/categoryFilesSmall/All_Beauty.csv\n",
            "Resolving deepyeti.ucsd.edu (deepyeti.ucsd.edu)... 169.228.63.50\n",
            "Connecting to deepyeti.ucsd.edu (deepyeti.ucsd.edu)|169.228.63.50|:80... connected.\n",
            "HTTP request sent, awaiting response... 200 OK\n",
            "Length: 15499476 (15M) [application/octet-stream]\n",
            "Saving to: ‘All_Beauty.csv’\n",
            "\n",
            "All_Beauty.csv      100%[===================>]  14.78M  39.6MB/s    in 0.4s    \n",
            "\n",
            "2021-12-26 06:37:54 (39.6 MB/s) - ‘All_Beauty.csv’ saved [15499476/15499476]\n",
            "\n",
            "--2021-12-26 06:37:55--  http://deepyeti.ucsd.edu/jianmo/amazon/metaFiles2/meta_All_Beauty.json.gz\n",
            "Resolving deepyeti.ucsd.edu (deepyeti.ucsd.edu)... 169.228.63.50\n",
            "Connecting to deepyeti.ucsd.edu (deepyeti.ucsd.edu)|169.228.63.50|:80... connected.\n",
            "HTTP request sent, awaiting response... 200 OK\n",
            "Length: 10329961 (9.9M) [application/octet-stream]\n",
            "Saving to: ‘meta_All_Beauty.json.gz’\n",
            "\n",
            "meta_All_Beauty.jso 100%[===================>]   9.85M  34.4MB/s    in 0.3s    \n",
            "\n",
            "2021-12-26 06:37:55 (34.4 MB/s) - ‘meta_All_Beauty.json.gz’ saved [10329961/10329961]\n",
            "\n"
          ]
        }
      ]
    },
    {
      "cell_type": "code",
      "source": [
        "metadata = pd.read_json('meta_All_Beauty.json.gz', lines = True)\n",
        "ratings = pd.read_csv('All_Beauty.csv', names=['asin', 'reviewerID', 'overall', 'unixReviewTime'], header = None)\n",
        "ratings['DATE'] = pd.to_datetime(ratings['unixReviewTime'], unit='s')"
      ],
      "metadata": {
        "id": "cqJvl_xkBkJL"
      },
      "execution_count": 4,
      "outputs": []
    },
    {
      "cell_type": "markdown",
      "source": [
        "【資料前處理】"
      ],
      "metadata": {
        "id": "HGTNGqD3dhXx"
      }
    },
    {
      "cell_type": "code",
      "source": [
        "# 訓練資料(20180901前的交易)\n",
        "ratings_trainings = ratings[(ratings['DATE'] < '2018-09-01')]\n",
        "\n",
        "# 測試資料(20180901-20180930的交易)\n",
        "ratings_testings = ratings[\n",
        "    (ratings['DATE'] >= '2018-09-01') & \n",
        "    (ratings['DATE'] <= '2018-09-30')]\n",
        "\n",
        "# groupby[reviewerID],將結果存成list並建成字典\n",
        "ratings_testings_by_user = ratings_testings.groupby('reviewerID').agg(list).reset_index()[['reviewerID', 'asin']].to_dict('records')\n",
        "ratings_testings_by_user = { rating['reviewerID']: rating['asin'] for rating in ratings_testings_by_user }\n",
        "users = list(ratings_testings_by_user.keys())"
      ],
      "metadata": {
        "id": "SLR00GS3D2yN"
      },
      "execution_count": 5,
      "outputs": []
    },
    {
      "cell_type": "markdown",
      "source": [
        "【特徵組合】"
      ],
      "metadata": {
        "id": "tfl2ANL7dlvL"
      }
    },
    {
      "cell_type": "code",
      "source": [
        "# ====商品銷售排行====\n",
        "\n",
        "# 紀錄銷售排名資訊\n",
        "metadata[\"rank\"] = metadata[\"rank\"].str.split(\" \").str[0].str.replace(\",\",\"\").fillna(1000000000).astype(np.int64)\n",
        "ratings_trainings = pd.merge(ratings_trainings, metadata[[\"asin\",\"rank\"]], on=\"asin\", how =\"left\")\n",
        "\n",
        "# ====商品討論熱度====\n",
        "\n",
        "# 紀錄評論者回覆次數\n",
        "tmp = ratings_trainings[[\"asin\", \"reviewerID\"]].groupby(\"asin\").count().rename(columns = {\"reviewerID\":\"reviewerCnt_total\"})\n",
        "ratings_trainings = pd.merge(ratings_trainings, tmp, on=\"asin\", how =\"left\").fillna(1000000000)\n",
        "\n",
        "# 紀錄評論者回覆次數(1個月內)\n",
        "tmp = ratings_trainings[(ratings_trainings['DATE'] >= '2018-08-01')][[\"asin\", \"reviewerID\"]].groupby(\"asin\").count().rename(columns = {\"reviewerID\":\"reviewerCnt_1M\"})\n",
        "ratings_trainings = pd.merge(ratings_trainings, tmp, on=\"asin\", how =\"left\").fillna(0)\n",
        "\n",
        "# 紀錄評論者回覆次數(3個月內)\n",
        "tmp = ratings_trainings[(ratings_trainings['DATE'] >= '2018-06-01')][[\"asin\", \"reviewerID\"]].groupby(\"asin\").count().rename(columns = {\"reviewerID\":\"reviewerCnt_3M\"})\n",
        "ratings_trainings = pd.merge(ratings_trainings, tmp, on=\"asin\", how =\"left\").fillna(0)\n",
        "\n",
        "# ====商品評論分數====\n",
        "\n",
        "# 紀錄評論分數平均\n",
        "tmp = ratings_trainings[[\"asin\", \"overall\"]].groupby(\"asin\").mean().rename(columns = {\"overall\":\"overallAvg_total\"})\n",
        "ratings_trainings = pd.merge(ratings_trainings, tmp, on=\"asin\", how =\"left\").fillna(0)\n",
        "\n",
        "# 紀錄評論分數平均(1個月內)\n",
        "tmp = ratings_trainings[(ratings_trainings['DATE'] >= '2018-08-01')][[\"asin\", \"overall\"]].groupby(\"asin\").mean().rename(columns = {\"overall\":\"overallAvg_1M\"})\n",
        "ratings_trainings = pd.merge(ratings_trainings, tmp, on=\"asin\", how =\"left\").fillna(0)\n",
        "\n",
        "# 紀錄評論分數平均(3個月內)\n",
        "tmp = ratings_trainings[(ratings_trainings['DATE'] >= '2018-06-01')][[\"asin\", \"overall\"]].groupby(\"asin\").mean().rename(columns = {\"overall\":\"overallAvg_3M\"})\n",
        "ratings_trainings = pd.merge(ratings_trainings, tmp, on=\"asin\", how =\"left\").fillna(0)"
      ],
      "metadata": {
        "id": "cslv1BSsC5d_"
      },
      "execution_count": 6,
      "outputs": []
    },
    {
      "cell_type": "markdown",
      "source": [
        "【推薦方法】"
      ],
      "metadata": {
        "id": "UO5oGEO0D6vU"
      }
    },
    {
      "cell_type": "code",
      "source": [
        "def recommender(training_data, users=[], k=10):\n",
        "    '''\n",
        "    * training_data: dataframe 輸入的訓練資料集（2018-09-01 以前資料）\n",
        "    * users: [] 需要被推薦的使用者\n",
        "    * k: int 每個使用者需要推薦的商品數\n",
        "    * recommendations: dict\n",
        "      {\n",
        "          使用者一： [推薦商品一, 推薦商品二, ...],\n",
        "          使用者二： [...], ...\n",
        "      }\n",
        "    '''    \n",
        "    recommendations = {}        \n",
        "    training_data = training_data.drop(columns = [\"reviewerID\",\"overall\",\"unixReviewTime\",\"DATE\"]).drop_duplicates().reset_index(drop=True)\n",
        "    \n",
        "    revcnt_total_per = np.percentile(training_data[\"reviewerCnt_total\"].sort_values(ascending=False),95)\n",
        "    revcnt_1M_per = np.percentile(training_data[\"reviewerCnt_1M\"].sort_values(ascending=False),95)\n",
        "    revcnt_3M_per = np.percentile(training_data[\"reviewerCnt_3M\"].sort_values(ascending=False),95)\n",
        "    \n",
        "    # ===============================\n",
        "    # Rule1：利用商品銷售排行進行推薦\n",
        "    # ===============================\n",
        "    dataSort = training_data.sort_values(by = [\"rank\"], ascending=True)\n",
        "    dataSort[\"ranking\"] = dataSort[\"rank\"].rank(method='dense',ascending=True)\n",
        "    dataSort.reset_index(drop=True, inplace=True)\n",
        "    rule_1= dataSort['asin'].tolist()[:k]\n",
        "    \n",
        "    # =================================\n",
        "    # Rule2：利用商品熱度及評價進行推薦\n",
        "    # ================================= \n",
        "    dataSort = training_data[training_data[\"reviewerCnt_total\"] >= revcnt_total_per]\n",
        "    dataSort = dataSort[dataSort[\"overallAvg_total\"] >= 4]\n",
        "    dataSort[\"ranking_overallAvg\"] = dataSort[\"overallAvg_total\"].rank(method='dense',ascending=False)\n",
        "    dataSort[\"ranking_reviewerCnt\"] = dataSort[\"reviewerCnt_total\"].rank(method='dense',ascending=False)\n",
        "    dataSort[\"ranking\"] = dataSort[\"ranking_overallAvg\"] + dataSort[\"ranking_reviewerCnt\"]\n",
        "    dataSort = dataSort.sort_values(\"ranking\")\n",
        "    dataSort.reset_index(drop=True, inplace=True)\n",
        "    rule_2= dataSort['asin'].tolist()[:k]    \n",
        "\n",
        "    # =================================\n",
        "    # Rule3：利用商品熱度及評價進行推薦(1個月內)\n",
        "    # ================================= \n",
        "    dataSort = training_data[training_data[\"reviewerCnt_1M\"] >= revcnt_1M_per]\n",
        "    dataSort = dataSort[dataSort[\"overallAvg_1M\"] >= 4]\n",
        "    dataSort[\"ranking_overallAvg\"] = dataSort[\"overallAvg_1M\"].rank(method='dense',ascending=False)\n",
        "    dataSort[\"ranking_reviewerCnt\"] = dataSort[\"reviewerCnt_1M\"].rank(method='dense',ascending=False)\n",
        "    dataSort[\"ranking\"] = dataSort[\"ranking_overallAvg\"] + dataSort[\"ranking_reviewerCnt\"]\n",
        "    dataSort = dataSort.sort_values(\"ranking\")\n",
        "    dataSort.reset_index(drop=True, inplace=True)\n",
        "    rule_3= dataSort['asin'].tolist()[:k]   \n",
        "\n",
        "    # =================================\n",
        "    # Rule4：利用商品熱度及評價進行推薦(3個月內)\n",
        "    # ================================= \n",
        "    dataSort = training_data[training_data[\"reviewerCnt_3M\"] >= revcnt_3M_per]\n",
        "    dataSort = dataSort[dataSort[\"overallAvg_3M\"] >= 4]\n",
        "    dataSort[\"ranking_overallAvg\"] = dataSort[\"overallAvg_3M\"].rank(method='dense',ascending=False)\n",
        "    dataSort[\"ranking_reviewerCnt\"] = dataSort[\"reviewerCnt_3M\"].rank(method='dense',ascending=False)\n",
        "    dataSort[\"ranking\"] = dataSort[\"ranking_overallAvg\"] + dataSort[\"ranking_reviewerCnt\"]\n",
        "    dataSort = dataSort.sort_values(\"ranking\")\n",
        "    dataSort.reset_index(drop=True, inplace=True)\n",
        "    rule_4= dataSort['asin'].tolist()[:k]   \n",
        "    \n",
        "    recommendations ={\"rule_1\":rule_1,\n",
        "                      \"rule_2\":rule_2,\n",
        "                      \"rule_3\":rule_3,\n",
        "                      \"rule_4\":rule_4}\n",
        "    \n",
        "    return recommendations\n",
        "\n",
        "ratings_by_rule = recommender(ratings_trainings, users)"
      ],
      "metadata": {
        "id": "AsOkpgWcEJX0"
      },
      "execution_count": 7,
      "outputs": []
    },
    {
      "cell_type": "markdown",
      "source": [
        "【評估方法】"
      ],
      "metadata": {
        "id": "xRJ0yLMyECY1"
      }
    },
    {
      "cell_type": "code",
      "source": [
        "def evaluate(ratings_testings_by_user={}, ratings_by_user={}, method=None):\n",
        "    '''\n",
        "    * ratings_testings_by_user: dict 真實被購買的商品資料（2018-09-01 以後資料）\n",
        "    * ratings_by_user: dict 利用訓練資料學習的推薦商品\n",
        "    * method: str\n",
        "    * score: float\n",
        "    '''\n",
        "    for rule in ratings_by_user:\n",
        "        total = 0\n",
        "        for d in ratings_testings_by_user:\n",
        "            total += len(set(ratings_by_user[rule]) & set(ratings_testings_by_user[d]))\n",
        "            score = total / len(ratings_testings)\n",
        "        print(rule + \"：\" +  str(round(score*100,2)) + \"%\" )\n",
        "evaluate(ratings_testings_by_user, ratings_by_rule)\n",
        "    "
      ],
      "metadata": {
        "id": "8SqQ2PlrENUy",
        "colab": {
          "base_uri": "https://localhost:8080/"
        },
        "outputId": "d9feaf62-b4de-4c09-9bc1-353c1cb66413"
      },
      "execution_count": 8,
      "outputs": [
        {
          "output_type": "stream",
          "name": "stdout",
          "text": [
            "rule_1：0.51%\n",
            "rule_2：0.0%\n",
            "rule_3：1.69%\n",
            "rule_4：4.24%\n"
          ]
        }
      ]
    }
  ]
}