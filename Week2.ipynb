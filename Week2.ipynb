{
  "nbformat": 4,
  "nbformat_minor": 0,
  "metadata": {
    "colab": {
      "name": "Week2.ipynb",
      "provenance": [],
      "authorship_tag": "ABX9TyO7GZ4piSgdQ3z+pMjJipeR",
      "include_colab_link": true
    },
    "kernelspec": {
      "name": "python3",
      "display_name": "Python 3"
    },
    "language_info": {
      "name": "python"
    }
  },
  "cells": [
    {
      "cell_type": "markdown",
      "metadata": {
        "id": "view-in-github",
        "colab_type": "text"
      },
      "source": [
        "<a href=\"https://colab.research.google.com/github/andylee50609/data-course-sample/blob/main/Week2.ipynb\" target=\"_parent\"><img src=\"https://colab.research.google.com/assets/colab-badge.svg\" alt=\"Open In Colab\"/></a>"
      ]
    },
    {
      "cell_type": "markdown",
      "source": [
        "【參數宣告】\n",
        "\n"
      ],
      "metadata": {
        "id": "i6ENRtotpX4N"
      }
    },
    {
      "cell_type": "code",
      "source": [
        "import pandas as pd\n",
        "import numpy as np\n",
        "import string\n",
        "import re\n",
        "import nltk\n",
        "from sklearn.metrics.pairwise import cosine_similarity\n",
        "from sklearn.feature_extraction.text import TfidfVectorizer"
      ],
      "metadata": {
        "id": "8OBNJpZtpmPI"
      },
      "execution_count": 1,
      "outputs": []
    },
    {
      "cell_type": "markdown",
      "source": [
        "【資料讀取】"
      ],
      "metadata": {
        "id": "NHLLe4tXpb3X"
      }
    },
    {
      "cell_type": "code",
      "source": [
        "!wget http://deepyeti.ucsd.edu/jianmo/amazon/categoryFilesSmall/All_Beauty.csv\n",
        "!wget http://deepyeti.ucsd.edu/jianmo/amazon/metaFiles2/meta_All_Beauty.json.gz"
      ],
      "metadata": {
        "colab": {
          "base_uri": "https://localhost:8080/"
        },
        "id": "DtElLO_oqPm2",
        "outputId": "6fea2451-8d46-4684-f912-b0f2f45e32f1"
      },
      "execution_count": 2,
      "outputs": [
        {
          "output_type": "stream",
          "name": "stdout",
          "text": [
            "--2022-01-03 11:18:59--  http://deepyeti.ucsd.edu/jianmo/amazon/categoryFilesSmall/All_Beauty.csv\n",
            "Resolving deepyeti.ucsd.edu (deepyeti.ucsd.edu)... 169.228.63.50\n",
            "Connecting to deepyeti.ucsd.edu (deepyeti.ucsd.edu)|169.228.63.50|:80... connected.\n",
            "HTTP request sent, awaiting response... 200 OK\n",
            "Length: 15499476 (15M) [application/octet-stream]\n",
            "Saving to: ‘All_Beauty.csv.1’\n",
            "\n",
            "All_Beauty.csv.1    100%[===================>]  14.78M  19.8MB/s    in 0.7s    \n",
            "\n",
            "2022-01-03 11:19:00 (19.8 MB/s) - ‘All_Beauty.csv.1’ saved [15499476/15499476]\n",
            "\n",
            "--2022-01-03 11:19:00--  http://deepyeti.ucsd.edu/jianmo/amazon/metaFiles2/meta_All_Beauty.json.gz\n",
            "Resolving deepyeti.ucsd.edu (deepyeti.ucsd.edu)... 169.228.63.50\n",
            "Connecting to deepyeti.ucsd.edu (deepyeti.ucsd.edu)|169.228.63.50|:80... connected.\n",
            "HTTP request sent, awaiting response... 200 OK\n",
            "Length: 10329961 (9.9M) [application/octet-stream]\n",
            "Saving to: ‘meta_All_Beauty.json.gz.1’\n",
            "\n",
            "meta_All_Beauty.jso 100%[===================>]   9.85M  15.2MB/s    in 0.6s    \n",
            "\n",
            "2022-01-03 11:19:01 (15.2 MB/s) - ‘meta_All_Beauty.json.gz.1’ saved [10329961/10329961]\n",
            "\n"
          ]
        }
      ]
    },
    {
      "cell_type": "code",
      "source": [
        "metadata = pd.read_json('meta_All_Beauty.json.gz', lines = True)[['asin', 'title', 'description', 'rank', 'brand']]\n",
        "ratings = pd.read_csv('All_Beauty.csv', names=['asin', 'reviewerID', 'overall', 'unixReviewTime'], header = None)\n",
        "ratings['DATE'] = pd.to_datetime(ratings['unixReviewTime'], unit='s')\n",
        "\n",
        "# 取近期的資料較有參考價值\n",
        "ratings = ratings[ratings['DATE'] >= \"2017-09-01\"]"
      ],
      "metadata": {
        "id": "OjR88hKrpqIp"
      },
      "execution_count": 3,
      "outputs": []
    },
    {
      "cell_type": "markdown",
      "source": [
        "【資料前處理】"
      ],
      "metadata": {
        "id": "xnaBKphrpbuT"
      }
    },
    {
      "cell_type": "code",
      "source": [
        "# ======== Data Clean ========\n",
        "\n",
        "# 補充討論熱度及評分資訊\n",
        "tmp = ratings[[\"asin\",\"overall\"]].groupby(\"asin\").agg({'asin':'size', 'overall':'mean'}).rename(columns={'asin':'reviewNum','overall':'meanScore'}).reset_index()\n",
        "metadata = pd.merge(metadata, tmp, on=\"asin\", how =\"inner\").fillna(0)\n",
        "ratings = pd.merge(ratings, tmp, on=\"asin\", how =\"inner\").fillna(0)\n",
        "\n",
        "# 補充商品子類別資訊\n",
        "metadata['sub_category'] = metadata['rank'].str.split(\"in \").str[1].replace(r'&amp;','&', regex = True).replace(r'\\(','', regex = True)\n",
        "metadata = metadata.drop(columns = [\"rank\"])\n",
        "metadata['brand']= metadata['brand'].str.replace('#','').replace('\\(','',regex=True).replace('\\)','',regex=True).replace(',','',regex=True).replace('-','',regex=True).replace('\\.','',regex=True).replace('\\'','',regex=True).replace('\\*','',regex=True).replace('', np.nan)\n",
        "rule_based_recom = metadata[metadata[\"reviewNum\"]>=300][[\"asin\",\"meanScore\"]].sort_values(\"meanScore\", ascending = False).drop_duplicates()\n",
        "\n",
        "\n",
        "# ========Testing/Training Set========\n",
        "\n",
        "# 訓練資料(20180901前的交易)\n",
        "ratings_trainings = ratings[(ratings['DATE'] < '2018-09-01')]\n",
        "\n",
        "# 測試資料(20180901-20180930的交易)\n",
        "ratings_testings = ratings[\n",
        "    (ratings['DATE'] >= '2018-09-01') & \n",
        "    (ratings['DATE'] <= '2018-09-30')]\n",
        "\n",
        "# groupby[reviewerID],將結果存成list並建成字典\n",
        "ratings_testings_by_user = ratings_testings.groupby('reviewerID').agg(list).reset_index()[['reviewerID', 'asin']].to_dict('records')\n",
        "ratings_testings_by_user = { rating['reviewerID']: rating['asin'] for rating in ratings_testings_by_user }\n",
        "users = list(ratings_testings_by_user.keys())\n",
        "\n",
        "\n",
        "# ======== 結構化資料處理(sub_category、brand) ========\n",
        "# 將subCat轉成稀疏矩陣\n",
        "dummy_subCat = pd.get_dummies(metadata['sub_category'] , columns = ['subcat'])\n",
        "\n",
        "# 將brand轉成稀疏矩陣\n",
        "dummy_brand = pd.get_dummies(metadata['brand'] , columns = ['brand'])\n",
        "\n",
        "# ======== 非結構化資料處理(title、description) ========\n",
        "\n",
        "# 把 description 從 list 轉為 str\n",
        "metadata['description'] = metadata['description'].apply(lambda x: ' '.join(x))\n",
        "\n",
        "#將 title 與 description 合併\n",
        "metadata['title_description'] = metadata['title'] + metadata['description']\n",
        "metadata['title_description'] = metadata['title_description'].str.lower()"
      ],
      "metadata": {
        "id": "6D_u3JaNpxkh"
      },
      "execution_count": 4,
      "outputs": []
    },
    {
      "cell_type": "markdown",
      "source": [
        "【產生推薦】"
      ],
      "metadata": {
        "id": "MPW2UYVCpbjG"
      }
    },
    {
      "cell_type": "code",
      "source": [
        "# 計算商品用標題所表示的 tfidf 矩陣 (文本向量化)\n",
        "df = metadata.drop_duplicates('title_description')\n",
        "tf = TfidfVectorizer(analyzer='word', stop_words=(\"english\"))\n",
        "tfidf_matrix = tf.fit_transform(df['title_description'])\n",
        "\n",
        "# 加入結構化資料\n",
        "tfidf_df = pd.DataFrame(data=tfidf_matrix.toarray(), columns=tf.get_feature_names())\n",
        "tfidf_df = pd.concat([tfidf_df, dummy_subCat, dummy_brand], axis=1).fillna(0)\n",
        "\n",
        "# 計算商品間的相似程度\n",
        "similarity_matrix = cosine_similarity(tfidf_df)\n",
        "mapping = pd.Series(metadata.index,index = metadata['title_description'])\n",
        "\n",
        "\n",
        "\n",
        "def recommend_item(item_input, k=2):\n",
        "    try:\n",
        "        item_index = mapping[item_input]\n",
        "        similarity_score = list(enumerate(similarity_matrix[item_index]))\n",
        "        similarity_score = sorted(similarity_score, key=lambda x: x[1], reverse=True)\n",
        "        similarity_score = similarity_score[:k]\n",
        "        item_indices = [i[0] for i in similarity_score]\n",
        "        return (df['asin'].iloc[item_indices].tolist())\n",
        "    except:\n",
        "        return []\n",
        "\n",
        "# 利用使用者購買過的商品產生推薦\n",
        "def recommend_items(items, k):\n",
        "    res = []\n",
        "    for d in items:\n",
        "        res.extend(recommend_item(d, k))\n",
        "    return res\n",
        "\n",
        "\n",
        "def recommender(training_data, users=[], k=10):\n",
        "    '''\n",
        "    * training_data: dataframe 輸入的訓練資料集（2018-09-01 以前資料）\n",
        "    * users: [] 需要被推薦的使用者\n",
        "    * k: int 每個使用者需要推薦的商品數\n",
        "    * recommendations: dict\n",
        "      {\n",
        "          使用者一： [推薦商品一, 推薦商品二, ...],\n",
        "          使用者二： [...], ...\n",
        "      }\n",
        "    '''\n",
        "    recommendations = {}\n",
        "    ratings_trainings = training_data\n",
        "    \n",
        "    for user in users:\n",
        "      recom_list = recommend_items(metadata[metadata['asin'].isin(ratings_trainings[ratings_trainings['reviewerID'] == user]['asin'].tolist())]['title_description'].tolist(), k)[:k]\n",
        "      if recom_list:\n",
        "        recommendations[user] = recom_list\n",
        "      else:\n",
        "        recommendations[user] = list(rule_based_recom[\"asin\"])[:k]\n",
        "\n",
        "    return recommendations\n",
        "\n",
        "ratings_by_user = recommender(ratings_trainings, users)"
      ],
      "metadata": {
        "colab": {
          "base_uri": "https://localhost:8080/"
        },
        "id": "N9WGdJBvpcDC",
        "outputId": "d98d99dd-2f83-4382-e265-0ba48c9db83f"
      },
      "execution_count": 5,
      "outputs": [
        {
          "output_type": "stream",
          "name": "stderr",
          "text": [
            "/usr/local/lib/python3.7/dist-packages/sklearn/utils/deprecation.py:87: FutureWarning: Function get_feature_names is deprecated; get_feature_names is deprecated in 1.0 and will be removed in 1.2. Please use get_feature_names_out instead.\n",
            "  warnings.warn(msg, category=FutureWarning)\n"
          ]
        }
      ]
    },
    {
      "cell_type": "markdown",
      "source": [
        "【結果評估】"
      ],
      "metadata": {
        "id": "3Zj8FaEPqAFn"
      }
    },
    {
      "cell_type": "code",
      "source": [
        "def evaluate(ratings_testings_by_user={}, ratings_by_user={}, method=None):\n",
        "    '''\n",
        "    * ratings_testings_by_user: dict 真實被購買的商品資料（2018-09-01 以後資料）\n",
        "    * ratings_by_user: dict 利用訓練資料學習的推薦商品\n",
        "    * method: str\n",
        "    * score: float\n",
        "    '''\n",
        "    total = 0\n",
        "    for d in ratings_testings_by_user:\n",
        "        if d in ratings_by_user:\n",
        "            total += len(set(ratings_by_user[d]) & set(ratings_testings_by_user[d]))\n",
        "\n",
        "    score = total / len(ratings_testings)\n",
        "    return score\n",
        "\n",
        "evaluate(ratings_testings_by_user, ratings_by_user)"
      ],
      "metadata": {
        "colab": {
          "base_uri": "https://localhost:8080/"
        },
        "id": "UsqQ00Wdp_pA",
        "outputId": "1c6ea7ec-f41d-47d8-a968-d69cf3e7c482"
      },
      "execution_count": 6,
      "outputs": [
        {
          "output_type": "execute_result",
          "data": {
            "text/plain": [
              "0.09830508474576272"
            ]
          },
          "metadata": {},
          "execution_count": 6
        }
      ]
    }
  ]
}