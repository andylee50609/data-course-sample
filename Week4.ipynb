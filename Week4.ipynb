{
  "nbformat": 4,
  "nbformat_minor": 0,
  "metadata": {
    "colab": {
      "name": "Week4.ipynb",
      "provenance": [],
      "collapsed_sections": [],
      "authorship_tag": "ABX9TyMzGl9abAdisu+j9HdBTpYB",
      "include_colab_link": true
    },
    "kernelspec": {
      "name": "python3",
      "display_name": "Python 3"
    },
    "language_info": {
      "name": "python"
    }
  },
  "cells": [
    {
      "cell_type": "markdown",
      "metadata": {
        "id": "view-in-github",
        "colab_type": "text"
      },
      "source": [
        "<a href=\"https://colab.research.google.com/github/andylee50609/data-course-sample/blob/main/Week4.ipynb\" target=\"_parent\"><img src=\"https://colab.research.google.com/assets/colab-badge.svg\" alt=\"Open In Colab\"/></a>"
      ]
    },
    {
      "cell_type": "markdown",
      "source": [
        "【參數宣告】"
      ],
      "metadata": {
        "id": "Ka5ORQYyKmR0"
      }
    },
    {
      "cell_type": "code",
      "execution_count": null,
      "metadata": {
        "id": "NAy3aaIrKa3D"
      },
      "outputs": [],
      "source": [
        "import pandas as pd\n",
        "import numpy as np\n",
        "import matplotlib.pyplot as plt \n",
        "import seaborn as sns"
      ]
    },
    {
      "cell_type": "markdown",
      "source": [
        "【資料讀取】"
      ],
      "metadata": {
        "id": "K9vm9L7oKlqf"
      }
    },
    {
      "cell_type": "code",
      "source": [
        "# Training Data\n",
        "recipes_df = pd.read_json('recipes.jsonl.gz', lines=True, compression='gzip').rename(columns = {\"id\":\"recipe_id\"})\n",
        "ingredients_df = pd.read_json('ingredients.jsonl.gz', lines=True, compression='gzip')\n",
        "favorites_df = pd.read_json('favorites.json.gz', compression='gzip')\n",
        "\n",
        "# Test Data\n",
        "test_favorites_df = pd.read_json('test_favorites.json.gz', compression='gzip')\n",
        "test_user_ids = pd.read_csv('test_user_ids.txt.gz', compression='gzip', names=['user_id'])"
      ],
      "metadata": {
        "id": "dSDiFKQwK_O9"
      },
      "execution_count": null,
      "outputs": []
    },
    {
      "cell_type": "markdown",
      "source": [
        "【資料探索(EDA)】"
      ],
      "metadata": {
        "id": "3DxJK1oaKuyJ"
      }
    },
    {
      "cell_type": "code",
      "source": [
        "# 將2020年之食譜收藏資訊也作為一項特徵\n",
        "tmp = favorites_df[[\"recipe_id\",\"user_id\"]].groupby(\"recipe_id\").count().rename(columns = {\"user_id\":\"favorites_count_2020\"}).reset_index()\n",
        "recipes_df = pd.merge(recipes_df, tmp, how = \"left\", on = \"recipe_id\")\n",
        "recipes_df[\"favorites_count_2020\"] = recipes_df[\"favorites_count_2020\"].fillna(0)\n",
        "\n",
        "# 透過相關係數分析圖找出數值Feature間之關係，透過分析圖可以發現「跟著做數量(dishes_count)」與收藏數(favorites_count)有顯著之正相關。\n",
        "# 此外，除了「圖片步驟數(photo_steps_count)」有些微相關外，其餘特徵皆明顯不相關。\n",
        "plt.figure(figsize=(10, 8))\n",
        "feature_corr = recipes_df.corr()\n",
        "sns.heatmap(feature_corr, annot=True)\n",
        "\n",
        "# 跟著做數量為46, 45, 167 時，收藏量顯著高\n",
        "plt.figure(figsize=(16, 8))\n",
        "sns.barplot('dishes_count','favorites_count', data=recipes_df, ci=None)\n",
        "\n",
        "# 圖片步驟數為36, 30, 27 時，收藏量顯著高\n",
        "plt.figure(figsize=(16, 8))\n",
        "sns.barplot('photo_steps_count','favorites_count', data=recipes_df, ci=None)"
      ],
      "metadata": {
        "id": "9wVRls7vLCwB"
      },
      "execution_count": null,
      "outputs": []
    },
    {
      "cell_type": "markdown",
      "source": [
        "【資料前處理】"
      ],
      "metadata": {
        "id": "qGZMkRMtKuvJ"
      }
    },
    {
      "cell_type": "code",
      "source": [
        "# groupby[user_id],將結果存成list並建成字典\n",
        "test_favorite_dict = test_favorites_df.groupby('user_id').agg(list).reset_index().to_dict('records')\n",
        "test_favorite_dict = { row['user_id']: row['recipe_id'] for row in test_favorite_dict }\n",
        "\n",
        "# 透過outerjoin檢視test_data的客戶是否過去有相關收藏紀錄，經檢視，test_data的客戶皆為既有客戶\n",
        "tmp = pd.merge(favorites_df[\"user_id\"].fillna(0).drop_duplicates().rename(\"old_user_id\"), test_user_ids, how = \"outer\", left_on=\"old_user_id\", right_on=\"user_id\")\n",
        "new_cust = tmp[tmp[\"old_user_id\"].isnull()]\n",
        "old_cust = tmp[~tmp[\"user_id\"].isnull()]"
      ],
      "metadata": {
        "id": "yc8etReILE7S"
      },
      "execution_count": null,
      "outputs": []
    },
    {
      "cell_type": "markdown",
      "source": [
        "【Rule_Based 規則】"
      ],
      "metadata": {
        "id": "kxoh69BlKurn"
      }
    },
    {
      "cell_type": "code",
      "source": [
        "# 依據「收藏數」量進行排序\n",
        "rank_list = recipes_df[\"favorites_count\"].rank(method='dense',ascending=False, pct=True).reset_index()\n",
        "\n",
        "# 依據「2020年收藏數量」進行排序\n",
        "tmp = recipes_df[\"favorites_count_2020\"].rank(method='dense',ascending=False, pct=True).reset_index()\n",
        "rank_list = pd.merge(rank_list, tmp, how=\"left\", on = \"index\")\n",
        "\n",
        "# 依據「跟著做數量」進行排序\n",
        "tmp = recipes_df[\"dishes_count\"].rank(method='dense',ascending=False, pct=True).reset_index()\n",
        "rank_list = pd.merge(rank_list, tmp, how=\"left\", on = \"index\")\n",
        "\n",
        "# 依據「圖片步驟數」進行排序\n",
        "tmp = recipes_df[\"photo_steps_count\"].rank(method='dense',ascending=False, pct=True).reset_index()\n",
        "rank_list = pd.merge(rank_list, tmp, how=\"left\", on = \"index\")\n",
        "\n",
        "# 依據「發布時間」進行排序\n",
        "tmp = recipes_df[\"published_at\"].rank(method='dense',ascending=False, pct=True).reset_index()\n",
        "rank_list = pd.merge(rank_list, tmp, how=\"left\", on = \"index\")\n",
        "\n",
        "# join recipe已取得recipe_id\n",
        "rank_list = pd.merge(rank_list, recipes_df.reset_index()[[\"index\",\"recipe_id\"]], how=\"left\", on = \"index\")\n",
        "\n",
        "# 加總最終之排序結果\n",
        "rank_list[\"totalRank\"] = rank_list[\"favorites_count\"] + rank_list[\"favorites_count_2020\"] + rank_list[\"dishes_count\"] + rank_list[\"photo_steps_count\"] + rank_list[\"published_at\"]\n",
        "\n",
        "rank_list = rank_list.sort_values(\"totalRank\").reset_index(drop=True)"
      ],
      "metadata": {
        "id": "D-kEyJxVLHFF"
      },
      "execution_count": null,
      "outputs": []
    },
    {
      "cell_type": "markdown",
      "source": [
        "【進行推薦】"
      ],
      "metadata": {
        "id": "9Y35Q-HqKumV"
      }
    },
    {
      "cell_type": "code",
      "source": [
        "def recommender(users=[], k=3):\n",
        "\n",
        "  return { user: rank_list[\"recipe_id\"][:k].tolist() for user in users}\n",
        "\n",
        "predictions = recommender(test_user_ids['user_id'])"
      ],
      "metadata": {
        "id": "ypWoli_jLI5u"
      },
      "execution_count": null,
      "outputs": []
    },
    {
      "cell_type": "markdown",
      "source": [
        "【評估結果】"
      ],
      "metadata": {
        "id": "i0wPnwqvKufT"
      }
    },
    {
      "cell_type": "code",
      "source": [
        "def evaluate(real_results={}, predicted_results={}):\n",
        "    '''\n",
        "    * real_results: dict 真實被收藏的食譜資料\n",
        "    * predicted_results: dict 利用訓練資料學習的推薦食譜\n",
        "    * method: str\n",
        "    * score: float\n",
        "    '''\n",
        "    total = 0\n",
        "    for d in predicted_results:\n",
        "          total += len(set(predicted_results[d]) & set(test_favorites_df[test_favorites_df['user_id'] == d]['recipe_id']))\n",
        "\n",
        "    score = total / test_favorites_df.shape[0]\n",
        "    return score\n",
        "\n",
        "evaluate(test_favorites_df, predictions)"
      ],
      "metadata": {
        "id": "S9Nl10d2LK4L"
      },
      "execution_count": null,
      "outputs": []
    }
  ]
}